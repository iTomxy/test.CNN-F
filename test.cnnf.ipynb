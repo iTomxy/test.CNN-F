{
 "cells": [
  {
   "cell_type": "markdown",
   "metadata": {},
   "source": [
    "# CNN-F/VGG-F 参数文件解析\n",
    "1. 用的文件是 [vgg_net.mat](http://www.lamda.nju.edu.cn/jiangqy/data/DCMH_data/vgg-net.zip)，来源：[jiangqy/DCMH-CVPR2017 | mismatch with imagenet-vgg-f.mat #4](https://github.com/jiangqy/DCMH-CVPR2017/issues/4#issuecomment-529158524)；\n",
    "2. 此文件与从 [Pretrained models](https://www.vlfeat.org/matconvnet/pretrained/) 下载的 [imagenet-vgg-f.mat](https://www.vlfeat.org/matconvnet/models/imagenet-vgg-f.mat) **不**同，不过应该可以作类似分析；\n",
    "3. 用法参照 [DCMH-CVPR2017/DCMH_tensorflow/DCMH_tensorflow/net_structure_img.py](https://github.com/jiangqy/DCMH-CVPR2017/blob/master/DCMH_tensorflow/DCMH_tensorflow/net_structure_img.py)，但要做些修改。本来有一份可以直接用这份代码的文件，但忘记拷过来，以后再上传，所以有此篇分析；\n",
    "4. 可以用 [netron](https://lutzroeder.github.io/netron/) 可视化 [SSDH_TCSVT2017/example/semihash/configure/flickr25k/flickr25k_semirank_train_test_vggf_12b.prototxt](https://github.com/PKU-ICST-MIPL/SSDH_TCSVT2017/blob/master/example/semihash/configure/flickr25k/flickr25k_semirank_train_test_vggf_12b.prototxt) 作对照，CNN-F 部分结构基本相同（只多两层 dropout）；"
   ]
  },
  {
   "cell_type": "code",
   "execution_count": 1,
   "metadata": {
    "collapsed": true
   },
   "outputs": [],
   "source": [
    "import scipy.io as sio\n",
    "import numpy as np"
   ]
  },
  {
   "cell_type": "code",
   "execution_count": 2,
   "metadata": {
    "collapsed": true
   },
   "outputs": [],
   "source": [
    "# http://www.lamda.nju.edu.cn/jiangqy/data/DCMH_data/vgg-net.zip\n",
    "CNN_F = \"vgg_net.mat\""
   ]
  },
  {
   "cell_type": "code",
   "execution_count": 3,
   "metadata": {
    "collapsed": true
   },
   "outputs": [],
   "source": [
    "cnnf = sio.loadmat(CNN_F)"
   ]
  },
  {
   "cell_type": "code",
   "execution_count": 4,
   "metadata": {
    "scrolled": true
   },
   "outputs": [
    {
     "data": {
      "text/plain": [
       "['__class__',\n",
       " '__contains__',\n",
       " '__delattr__',\n",
       " '__delitem__',\n",
       " '__dir__',\n",
       " '__doc__',\n",
       " '__eq__',\n",
       " '__format__',\n",
       " '__ge__',\n",
       " '__getattribute__',\n",
       " '__getitem__',\n",
       " '__gt__',\n",
       " '__hash__',\n",
       " '__init__',\n",
       " '__init_subclass__',\n",
       " '__iter__',\n",
       " '__le__',\n",
       " '__len__',\n",
       " '__lt__',\n",
       " '__ne__',\n",
       " '__new__',\n",
       " '__reduce__',\n",
       " '__reduce_ex__',\n",
       " '__repr__',\n",
       " '__setattr__',\n",
       " '__setitem__',\n",
       " '__sizeof__',\n",
       " '__str__',\n",
       " '__subclasshook__',\n",
       " 'clear',\n",
       " 'copy',\n",
       " 'fromkeys',\n",
       " 'get',\n",
       " 'items',\n",
       " 'keys',\n",
       " 'pop',\n",
       " 'popitem',\n",
       " 'setdefault',\n",
       " 'update',\n",
       " 'values']"
      ]
     },
     "execution_count": 4,
     "metadata": {},
     "output_type": "execute_result"
    }
   ],
   "source": [
    "dir(cnnf)"
   ]
  },
  {
   "cell_type": "code",
   "execution_count": 5,
   "metadata": {},
   "outputs": [
    {
     "data": {
      "text/plain": [
       "['__header__', '__version__', '__globals__', 'net']"
      ]
     },
     "execution_count": 5,
     "metadata": {},
     "output_type": "execute_result"
    }
   ],
   "source": [
    "list(cnnf.keys())"
   ]
  },
  {
   "cell_type": "code",
   "execution_count": 4,
   "metadata": {},
   "outputs": [
    {
     "name": "stdout",
     "output_type": "stream",
     "text": [
      "<class 'numpy.ndarray'>\n",
      "(1, 1)\n"
     ]
    }
   ],
   "source": [
    "net = cnnf[\"net\"]\n",
    "print(type(net))\n",
    "print(net.shape)"
   ]
  },
  {
   "cell_type": "code",
   "execution_count": 5,
   "metadata": {},
   "outputs": [
    {
     "name": "stdout",
     "output_type": "stream",
     "text": [
      "() <class 'numpy.void'> 2\n"
     ]
    }
   ],
   "source": [
    "net = net[0][0]\n",
    "print(net.shape, type(net), len(net))"
   ]
  },
  {
   "cell_type": "code",
   "execution_count": 8,
   "metadata": {},
   "outputs": [
    {
     "name": "stdout",
     "output_type": "stream",
     "text": [
      "(1, 19) (1, 1)\n"
     ]
    }
   ],
   "source": [
    "print(net[0].shape, net[1].shape)"
   ]
  },
  {
   "cell_type": "markdown",
   "metadata": {},
   "source": [
    "# meta data ?"
   ]
  },
  {
   "cell_type": "code",
   "execution_count": 9,
   "metadata": {},
   "outputs": [
    {
     "name": "stdout",
     "output_type": "stream",
     "text": [
      "<class 'numpy.void'> 2\n",
      "(1, 1) (1, 1)\n",
      "2 5\n"
     ]
    }
   ],
   "source": [
    "meta = net[1][0][0]\n",
    "print(type(net[1][0][0]), len(net[1][0][0]))\n",
    "print(net[1][0][0][0].shape, net[1][0][0][1].shape)\n",
    "print(len(net[1][0][0][0][0][0]), len(net[1][0][0][1][0][0]))"
   ]
  },
  {
   "cell_type": "markdown",
   "metadata": {},
   "source": [
    "# layers"
   ]
  },
  {
   "cell_type": "code",
   "execution_count": 6,
   "metadata": {},
   "outputs": [
    {
     "name": "stdout",
     "output_type": "stream",
     "text": [
      "(19,)\n"
     ]
    }
   ],
   "source": [
    "layers = net[0][0]\n",
    "print(layers.shape)  # 19 layers"
   ]
  },
  {
   "cell_type": "code",
   "execution_count": 7,
   "metadata": {
    "collapsed": true
   },
   "outputs": [],
   "source": [
    "def show(layer):\n",
    "    layer = layer[0][0]\n",
    "    for i in range(len(layer)):\n",
    "        print(i, \":\", layer[i])"
   ]
  },
  {
   "cell_type": "markdown",
   "metadata": {},
   "source": [
    "# 1st block"
   ]
  },
  {
   "cell_type": "code",
   "execution_count": 12,
   "metadata": {},
   "outputs": [
    {
     "name": "stdout",
     "output_type": "stream",
     "text": [
      "1 layer\n",
      "() <class 'numpy.void'> 8\n",
      "name: ['conv1']\n",
      "type: ['conv']\n",
      "kernel: (11, 11, 3, 64) , bias: (64, 1)\n",
      "shape: [[11 11  3 64]]\n",
      "pad: [[0 0 0 0]]\n",
      "stride: [[4 4]]\n"
     ]
    }
   ],
   "source": [
    "i = 1\n",
    "print(i, \"layer\")\n",
    "lay = layers[i-1]\n",
    "# show(lay)\n",
    "lay = lay[0][0]\n",
    "print(lay.shape, type(lay), len(lay))\n",
    "print(\"name:\", lay[0])\n",
    "print(\"type:\", lay[1])\n",
    "k, b = lay[2][0]\n",
    "print(\"kernel:\", k.shape, \", bias:\", b.shape)\n",
    "print(\"shape:\", lay[3])\n",
    "print(\"pad:\", lay[4])\n",
    "print(\"stride:\", lay[5])"
   ]
  },
  {
   "cell_type": "code",
   "execution_count": 13,
   "metadata": {},
   "outputs": [
    {
     "name": "stdout",
     "output_type": "stream",
     "text": [
      "2 layer\n",
      "() <class 'numpy.void'> 4\n",
      "name: ['relu1']\n",
      "type: ['relu']\n"
     ]
    }
   ],
   "source": [
    "i = 2\n",
    "print(i, \"layer\")\n",
    "lay = layers[i-1]\n",
    "# show(lay)\n",
    "lay = lay[0][0]\n",
    "print(lay.shape, type(lay), len(lay))\n",
    "print(\"name:\", lay[0])\n",
    "print(\"type:\", lay[1])"
   ]
  },
  {
   "cell_type": "code",
   "execution_count": 17,
   "metadata": {},
   "outputs": [
    {
     "name": "stdout",
     "output_type": "stream",
     "text": [
      "3 layer\n",
      "() <class 'numpy.void'> 4\n",
      "name: ['norm1']\n",
      "type: ['lrn']\n",
      "local_size/depth_radius: 5.0\n",
      "bias: 2.0\n",
      "alpha: 0.0001\n",
      "beta: 0.75\n"
     ]
    }
   ],
   "source": [
    "i = 3\n",
    "print(i, \"layer\")\n",
    "lay = layers[i-1]\n",
    "# show(lay)\n",
    "lay = lay[0][0]\n",
    "print(lay.shape, type(lay), len(lay))\n",
    "print(\"name:\", lay[0])\n",
    "print(\"type:\", lay[1])\n",
    "param = lay[2][0]\n",
    "print(\"local_size/depth_radius:\", param[0])\n",
    "print(\"bias:\", param[1])\n",
    "print(\"alpha:\", param[2])\n",
    "print(\"beta:\", param[3])"
   ]
  },
  {
   "cell_type": "code",
   "execution_count": 15,
   "metadata": {},
   "outputs": [
    {
     "name": "stdout",
     "output_type": "stream",
     "text": [
      "4 layer\n",
      "() <class 'numpy.void'> 8\n",
      "name: ['pool1']\n",
      "type: ['pool']\n",
      "pool type: ['max']\n",
      "kernel size: [[3 3]]\n",
      "stride: [[2 2]]\n",
      "pad: [[0 1 0 1]]\n"
     ]
    }
   ],
   "source": [
    "i = 4\n",
    "print(i, \"layer\")\n",
    "lay = layers[i-1]\n",
    "# show(lay)\n",
    "lay = lay[0][0]\n",
    "print(lay.shape, type(lay), len(lay))\n",
    "print(\"name:\", lay[0])\n",
    "print(\"type:\", lay[1])\n",
    "print(\"pool type:\", lay[2])\n",
    "print(\"kernel size:\", lay[3])\n",
    "print(\"stride:\", lay[4])\n",
    "print(\"pad:\", lay[5])"
   ]
  },
  {
   "cell_type": "markdown",
   "metadata": {},
   "source": [
    "# 2nd block"
   ]
  },
  {
   "cell_type": "code",
   "execution_count": 16,
   "metadata": {},
   "outputs": [
    {
     "name": "stdout",
     "output_type": "stream",
     "text": [
      "5 layer\n",
      "() <class 'numpy.void'> 8\n",
      "name: ['conv2']\n",
      "type: ['conv']\n",
      "kernel: (5, 5, 64, 256) , bias: (256, 1)\n",
      "shape: [[  5   5  64 256]]\n",
      "pad: [[2 2 2 2]]\n",
      "stride: [[1 1]]\n"
     ]
    }
   ],
   "source": [
    "i = 5\n",
    "print(i, \"layer\")\n",
    "lay = layers[i-1]\n",
    "# show(lay)\n",
    "lay = lay[0][0]\n",
    "print(lay.shape, type(lay), len(lay))\n",
    "print(\"name:\", lay[0])\n",
    "print(\"type:\", lay[1])\n",
    "k, b = lay[2][0]\n",
    "print(\"kernel:\", k.shape, \", bias:\", b.shape)\n",
    "print(\"shape:\", lay[3])\n",
    "print(\"pad:\", lay[4])\n",
    "print(\"stride:\", lay[5])"
   ]
  },
  {
   "cell_type": "code",
   "execution_count": 14,
   "metadata": {},
   "outputs": [
    {
     "name": "stdout",
     "output_type": "stream",
     "text": [
      "6 layer\n",
      "() <class 'numpy.void'> 4\n",
      "name: ['relu2']\n",
      "type: ['relu']\n"
     ]
    }
   ],
   "source": [
    "i = 6\n",
    "print(i, \"layer\")\n",
    "lay = layers[i-1]\n",
    "# show(lay)\n",
    "lay = lay[0][0]\n",
    "print(lay.shape, type(lay), len(lay))\n",
    "print(\"name:\", lay[0])\n",
    "print(\"type:\", lay[1])"
   ]
  },
  {
   "cell_type": "code",
   "execution_count": 18,
   "metadata": {},
   "outputs": [
    {
     "name": "stdout",
     "output_type": "stream",
     "text": [
      "7 layer\n",
      "() <class 'numpy.void'> 4\n",
      "name: ['norm2']\n",
      "type: ['lrn']\n",
      "local_size/depth_radius: 5.0\n",
      "bias: 2.0\n",
      "alpha: 0.0001\n",
      "beta: 0.75\n"
     ]
    }
   ],
   "source": [
    "i = 7\n",
    "print(i, \"layer\")\n",
    "lay = layers[i-1]\n",
    "# show(lay)\n",
    "lay = lay[0][0]\n",
    "print(lay.shape, type(lay), len(lay))\n",
    "print(\"name:\", lay[0])\n",
    "print(\"type:\", lay[1])\n",
    "param = lay[2][0]\n",
    "print(\"local_size/depth_radius:\", param[0])\n",
    "print(\"bias:\", param[1])\n",
    "print(\"alpha:\", param[2])\n",
    "print(\"beta:\", param[3])"
   ]
  },
  {
   "cell_type": "code",
   "execution_count": 19,
   "metadata": {},
   "outputs": [
    {
     "name": "stdout",
     "output_type": "stream",
     "text": [
      "8 layer\n",
      "() <class 'numpy.void'> 8\n",
      "name: ['pool2']\n",
      "type: ['pool']\n",
      "pool type: ['max']\n",
      "kernel size: [[3 3]]\n",
      "stride: [[2 2]]\n",
      "pad: [[0 1 0 1]]\n"
     ]
    }
   ],
   "source": [
    "i = 8\n",
    "print(i, \"layer\")\n",
    "lay = layers[i-1]\n",
    "# show(lay)\n",
    "lay = lay[0][0]\n",
    "print(lay.shape, type(lay), len(lay))\n",
    "print(\"name:\", lay[0])\n",
    "print(\"type:\", lay[1])\n",
    "print(\"pool type:\", lay[2])\n",
    "print(\"kernel size:\", lay[3])\n",
    "print(\"stride:\", lay[4])\n",
    "print(\"pad:\", lay[5])"
   ]
  },
  {
   "cell_type": "markdown",
   "metadata": {},
   "source": [
    "# 3rd block"
   ]
  },
  {
   "cell_type": "code",
   "execution_count": 20,
   "metadata": {},
   "outputs": [
    {
     "name": "stdout",
     "output_type": "stream",
     "text": [
      "9 layer\n",
      "() <class 'numpy.void'> 8\n",
      "name: ['conv3']\n",
      "type: ['conv']\n",
      "kernel: (3, 3, 256, 256) , bias: (256, 1)\n",
      "shape: [[  3   3 256 256]]\n",
      "pad: [[1 1 1 1]]\n",
      "stride: [[1 1]]\n"
     ]
    }
   ],
   "source": [
    "i = 9\n",
    "print(i, \"layer\")\n",
    "lay = layers[i-1]\n",
    "# show(lay)\n",
    "lay = lay[0][0]\n",
    "print(lay.shape, type(lay), len(lay))\n",
    "print(\"name:\", lay[0])\n",
    "print(\"type:\", lay[1])\n",
    "k, b = lay[2][0]\n",
    "print(\"kernel:\", k.shape, \", bias:\", b.shape)\n",
    "print(\"shape:\", lay[3])\n",
    "print(\"pad:\", lay[4])\n",
    "print(\"stride:\", lay[5])"
   ]
  },
  {
   "cell_type": "code",
   "execution_count": 21,
   "metadata": {},
   "outputs": [
    {
     "name": "stdout",
     "output_type": "stream",
     "text": [
      "10 layer\n",
      "() <class 'numpy.void'> 4\n",
      "name: ['relu3']\n",
      "type: ['relu']\n"
     ]
    }
   ],
   "source": [
    "i = 10\n",
    "print(i, \"layer\")\n",
    "lay = layers[i-1]\n",
    "# show(lay)\n",
    "lay = lay[0][0]\n",
    "print(lay.shape, type(lay), len(lay))\n",
    "print(\"name:\", lay[0])\n",
    "print(\"type:\", lay[1])"
   ]
  },
  {
   "cell_type": "markdown",
   "metadata": {},
   "source": [
    "# 4th block"
   ]
  },
  {
   "cell_type": "code",
   "execution_count": 22,
   "metadata": {},
   "outputs": [
    {
     "name": "stdout",
     "output_type": "stream",
     "text": [
      "11 layer\n",
      "() <class 'numpy.void'> 8\n",
      "name: ['conv4']\n",
      "type: ['conv']\n",
      "kernel: (3, 3, 256, 256) , bias: (256, 1)\n",
      "shape: [[  3   3 256 256]]\n",
      "pad: [[1 1 1 1]]\n",
      "stride: [[1 1]]\n"
     ]
    }
   ],
   "source": [
    "i = 11\n",
    "print(i, \"layer\")\n",
    "lay = layers[i-1]\n",
    "# show(lay)\n",
    "lay = lay[0][0]\n",
    "print(lay.shape, type(lay), len(lay))\n",
    "print(\"name:\", lay[0])\n",
    "print(\"type:\", lay[1])\n",
    "k, b = lay[2][0]\n",
    "print(\"kernel:\", k.shape, \", bias:\", b.shape)\n",
    "print(\"shape:\", lay[3])\n",
    "print(\"pad:\", lay[4])\n",
    "print(\"stride:\", lay[5])"
   ]
  },
  {
   "cell_type": "code",
   "execution_count": 23,
   "metadata": {},
   "outputs": [
    {
     "name": "stdout",
     "output_type": "stream",
     "text": [
      "12 layer\n",
      "() <class 'numpy.void'> 4\n",
      "name: ['relu4']\n",
      "type: ['relu']\n"
     ]
    }
   ],
   "source": [
    "i = 12\n",
    "print(i, \"layer\")\n",
    "lay = layers[i-1]\n",
    "# show(lay)\n",
    "lay = lay[0][0]\n",
    "print(lay.shape, type(lay), len(lay))\n",
    "print(\"name:\", lay[0])\n",
    "print(\"type:\", lay[1])"
   ]
  },
  {
   "cell_type": "markdown",
   "metadata": {},
   "source": [
    "# 5th block"
   ]
  },
  {
   "cell_type": "code",
   "execution_count": 24,
   "metadata": {},
   "outputs": [
    {
     "name": "stdout",
     "output_type": "stream",
     "text": [
      "13 layer\n",
      "() <class 'numpy.void'> 8\n",
      "name: ['conv5']\n",
      "type: ['conv']\n",
      "kernel: (3, 3, 256, 256) , bias: (256, 1)\n",
      "shape: [[  3   3 256 256]]\n",
      "pad: [[1 1 1 1]]\n",
      "stride: [[1 1]]\n"
     ]
    }
   ],
   "source": [
    "i = 13\n",
    "print(i, \"layer\")\n",
    "lay = layers[i-1]\n",
    "# show(lay)\n",
    "lay = lay[0][0]\n",
    "print(lay.shape, type(lay), len(lay))\n",
    "print(\"name:\", lay[0])\n",
    "print(\"type:\", lay[1])\n",
    "k, b = lay[2][0]\n",
    "print(\"kernel:\", k.shape, \", bias:\", b.shape)\n",
    "print(\"shape:\", lay[3])\n",
    "print(\"pad:\", lay[4])\n",
    "print(\"stride:\", lay[5])"
   ]
  },
  {
   "cell_type": "code",
   "execution_count": 25,
   "metadata": {},
   "outputs": [
    {
     "name": "stdout",
     "output_type": "stream",
     "text": [
      "14 layer\n",
      "() <class 'numpy.void'> 4\n",
      "name: ['relu5']\n",
      "type: ['relu']\n"
     ]
    }
   ],
   "source": [
    "i = 14\n",
    "print(i, \"layer\")\n",
    "lay = layers[i-1]\n",
    "# show(lay)\n",
    "lay = lay[0][0]\n",
    "print(lay.shape, type(lay), len(lay))\n",
    "print(\"name:\", lay[0])\n",
    "print(\"type:\", lay[1])"
   ]
  },
  {
   "cell_type": "code",
   "execution_count": 26,
   "metadata": {},
   "outputs": [
    {
     "name": "stdout",
     "output_type": "stream",
     "text": [
      "15 layer\n",
      "() <class 'numpy.void'> 8\n",
      "name: ['pool5']\n",
      "type: ['pool']\n",
      "pool type: ['max']\n",
      "kernel size: [[3 3]]\n",
      "stride: [[2 2]]\n",
      "pad: [[0 1 0 1]]\n"
     ]
    }
   ],
   "source": [
    "i = 15\n",
    "print(i, \"layer\")\n",
    "lay = layers[i-1]\n",
    "# show(lay)\n",
    "lay = lay[0][0]\n",
    "print(lay.shape, type(lay), len(lay))\n",
    "print(\"name:\", lay[0])\n",
    "print(\"type:\", lay[1])\n",
    "print(\"pool type:\", lay[2])\n",
    "print(\"kernel size:\", lay[3])\n",
    "print(\"stride:\", lay[4])\n",
    "print(\"pad:\", lay[5])"
   ]
  },
  {
   "cell_type": "markdown",
   "metadata": {},
   "source": [
    "# 6th block"
   ]
  },
  {
   "cell_type": "code",
   "execution_count": 27,
   "metadata": {},
   "outputs": [
    {
     "name": "stdout",
     "output_type": "stream",
     "text": [
      "16 layer\n",
      "() <class 'numpy.void'> 8\n",
      "name: ['fc6']\n",
      "type: ['conv']\n",
      "kernel: (6, 6, 256, 4096) , bias: (4096, 1)\n",
      "shape: [[   6    6  256 4096]]\n",
      "pad: [[0 0 0 0]]\n",
      "stride: [[1 1]]\n"
     ]
    }
   ],
   "source": [
    "i = 16\n",
    "print(i, \"layer\")\n",
    "lay = layers[i-1]\n",
    "# show(lay)\n",
    "lay = lay[0][0]\n",
    "print(lay.shape, type(lay), len(lay))\n",
    "print(\"name:\", lay[0])\n",
    "print(\"type:\", lay[1])\n",
    "k, b = lay[2][0]\n",
    "print(\"kernel:\", k.shape, \", bias:\", b.shape)\n",
    "print(\"shape:\", lay[3])\n",
    "print(\"pad:\", lay[4])\n",
    "print(\"stride:\", lay[5])"
   ]
  },
  {
   "cell_type": "code",
   "execution_count": 28,
   "metadata": {},
   "outputs": [
    {
     "name": "stdout",
     "output_type": "stream",
     "text": [
      "17 layer\n",
      "() <class 'numpy.void'> 4\n",
      "name: ['relu6']\n",
      "type: ['relu']\n"
     ]
    }
   ],
   "source": [
    "i = 17\n",
    "print(i, \"layer\")\n",
    "lay = layers[i-1]\n",
    "# show(lay)\n",
    "lay = lay[0][0]\n",
    "print(lay.shape, type(lay), len(lay))\n",
    "print(\"name:\", lay[0])\n",
    "print(\"type:\", lay[1])"
   ]
  },
  {
   "cell_type": "markdown",
   "metadata": {},
   "source": [
    "# 7th block"
   ]
  },
  {
   "cell_type": "code",
   "execution_count": 29,
   "metadata": {},
   "outputs": [
    {
     "name": "stdout",
     "output_type": "stream",
     "text": [
      "18 layer\n",
      "() <class 'numpy.void'> 8\n",
      "name: ['fc7']\n",
      "type: ['conv']\n",
      "kernel: (1, 1, 4096, 4096) , bias: (4096, 1)\n",
      "shape: [[   1    1 4096 4096]]\n",
      "pad: [[0 0 0 0]]\n",
      "stride: [[1 1]]\n"
     ]
    }
   ],
   "source": [
    "i = 18\n",
    "print(i, \"layer\")\n",
    "lay = layers[i-1]\n",
    "# show(lay)\n",
    "lay = lay[0][0]\n",
    "print(lay.shape, type(lay), len(lay))\n",
    "print(\"name:\", lay[0])\n",
    "print(\"type:\", lay[1])\n",
    "k, b = lay[2][0]\n",
    "print(\"kernel:\", k.shape, \", bias:\", b.shape)\n",
    "print(\"shape:\", lay[3])\n",
    "print(\"pad:\", lay[4])\n",
    "print(\"stride:\", lay[5])"
   ]
  },
  {
   "cell_type": "code",
   "execution_count": 30,
   "metadata": {},
   "outputs": [
    {
     "name": "stdout",
     "output_type": "stream",
     "text": [
      "19 layer\n",
      "() <class 'numpy.void'> 4\n",
      "name: ['relu7']\n",
      "type: ['relu']\n"
     ]
    }
   ],
   "source": [
    "i = 19\n",
    "print(i, \"layer\")\n",
    "lay = layers[i-1]\n",
    "# show(lay)\n",
    "lay = lay[0][0]\n",
    "print(lay.shape, type(lay), len(lay))\n",
    "print(\"name:\", lay[0])\n",
    "print(\"type:\", lay[1])"
   ]
  }
 ],
 "metadata": {
  "kernelspec": {
   "display_name": "Python [conda env:dl]",
   "language": "python",
   "name": "conda-env-dl-py"
  },
  "language_info": {
   "codemirror_mode": {
    "name": "ipython",
    "version": 3
   },
   "file_extension": ".py",
   "mimetype": "text/x-python",
   "name": "python",
   "nbconvert_exporter": "python",
   "pygments_lexer": "ipython3",
   "version": "3.6.2"
  }
 },
 "nbformat": 4,
 "nbformat_minor": 2
}
