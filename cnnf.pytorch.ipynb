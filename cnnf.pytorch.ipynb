{
 "cells": [
  {
   "cell_type": "markdown",
   "metadata": {},
   "source": [
    "# pytorch 加载 CNN-F/VGG-F 参数\n",
    "- [tensorflow加载CNN-F/VGG-F预训练参数](https://blog.csdn.net/HackerTom/article/details/103189798)\n",
    "- [test.cnnf.ipynb](https://download.csdn.net/download/HackerTom/12170872)\n",
    "- [DCMH-CVPR2017/DCMH_tensorflow/DCMH_tensorflow/net_structure_img.py](https://github.com/jiangqy/DCMH-CVPR2017/blob/master/DCMH_tensorflow/DCMH_tensorflow/net_structure_img.py)\n",
    "- [PyTorch中文文档](https://pytorch-cn.readthedocs.io/zh/latest/)"
   ]
  },
  {
   "cell_type": "code",
   "execution_count": 1,
   "metadata": {
    "collapsed": true
   },
   "outputs": [],
   "source": [
    "import scipy.io as sio\n",
    "import numpy as np\n",
    "import torch\n",
    "import torch.nn as nn\n",
    "import torch.nn.functional as F"
   ]
  },
  {
   "cell_type": "code",
   "execution_count": 2,
   "metadata": {
    "collapsed": true
   },
   "outputs": [],
   "source": [
    "CNN_F = \"vgg_net.mat\"\n",
    "cnnf = sio.loadmat(CNN_F)"
   ]
  },
  {
   "cell_type": "code",
   "execution_count": 3,
   "metadata": {
    "collapsed": true
   },
   "outputs": [],
   "source": [
    "net = cnnf[\"net\"]\n",
    "net = net[0][0]"
   ]
  },
  {
   "cell_type": "code",
   "execution_count": 4,
   "metadata": {
    "collapsed": true
   },
   "outputs": [],
   "source": [
    "layers = net[0][0]"
   ]
  },
  {
   "cell_type": "markdown",
   "metadata": {},
   "source": [
    "# process functions"
   ]
  },
  {
   "cell_type": "code",
   "execution_count": 5,
   "metadata": {
    "collapsed": true
   },
   "outputs": [],
   "source": [
    "def make_conv(layer):\n",
    "    \"\"\"pytorch: (n, C, h, w)\n",
    "    tf: (n, h, w, C)\n",
    "    src: https://github.com/pytorch/pytorch/blob/master/torch/nn/modules/conv.py#L329\n",
    "    \"\"\"\n",
    "    print(\"name:\", layer[0])\n",
    "    print(\"type:\", layer[1])\n",
    "    k, b = layer[2][0]\n",
    "    #b = b.flatten()\n",
    "    print(\"kernel:\", k.shape, \", bias:\", b.shape)\n",
    "    shape = layer[3][0]\n",
    "    print(\"shape:\", shape)\n",
    "    pad = layer[4][0]\n",
    "    print(\"pad:\", pad)\n",
    "    stride = layer[5][0]\n",
    "    print(\"stride:\", stride)\n",
    "    \n",
    "    conv = nn.Conv2d(shape[2], shape[3], shape[:2],\n",
    "                     stride=tuple(stride))  # must convert to tuple\n",
    "                    #  padding=tuple(pad))\n",
    "    print(conv.weight.data.size())\n",
    "    print(conv.bias.data.size())\n",
    "    conv.weight.data = torch.from_numpy(k.transpose((3, 2, 0, 1)))\n",
    "    #print(conv.bias.data)\n",
    "    conv.bias.data = torch.from_numpy(b.flatten())\n",
    "    #print(conv.bias.data)\n",
    "    \n",
    "    if np.sum(pad) > 0:\n",
    "        padding = nn.ZeroPad2d(tuple(pad.astype(np.int32)))\n",
    "        conv = nn.Sequential(padding, conv)\n",
    "\n",
    "    return conv  "
   ]
  },
  {
   "cell_type": "code",
   "execution_count": 6,
   "metadata": {
    "collapsed": true
   },
   "outputs": [],
   "source": [
    "class LRN(nn.Module):\n",
    "    \"\"\"ref:\n",
    "    - https://zhuanlan.zhihu.com/p/29786939\n",
    "    - https://www.jianshu.com/p/c06aea337d5d\n",
    "    \"\"\"\n",
    "    def __init__(self, local_size=1, bias=1.0, alpha=1.0, beta=0.75, ACROSS_CHANNELS=False):\n",
    "        super(LRN, self).__init__()\n",
    "        self.ACROSS_CHANNELS = ACROSS_CHANNELS\n",
    "        if self.ACROSS_CHANNELS:\n",
    "            self.average=nn.AvgPool3d(kernel_size=(local_size, 1, 1), #0.2.0_4会报错，需要在最新的分支上AvgPool3d才有padding参数\n",
    "                    stride=1,\n",
    "                    padding=(int((local_size-1.0)/2), 0, 0)) \n",
    "        else:\n",
    "            self.average=nn.AvgPool2d(kernel_size=local_size,\n",
    "                    stride=1,\n",
    "                    padding=int((local_size-1.0)/2))\n",
    "\n",
    "        self.bias = bias\n",
    "        self.alpha = alpha\n",
    "        self.beta = beta\n",
    "    \n",
    "    def forward(self, x):\n",
    "        if self.ACROSS_CHANNELS:\n",
    "            div = x.pow(2).unsqueeze(1)\n",
    "            div = self.average(div).squeeze(1)\n",
    "            div = div.mul(self.alpha).add(self.bias).pow(self.beta)#这里的1.0即为bias\n",
    "        else:\n",
    "            div = x.pow(2)\n",
    "            div = self.average(div)\n",
    "            div = div.mul(self.alpha).add(self.bias).pow(self.beta)\n",
    "        x = x.div(div)\n",
    "        return x"
   ]
  },
  {
   "cell_type": "code",
   "execution_count": 7,
   "metadata": {
    "collapsed": true
   },
   "outputs": [],
   "source": [
    "def make_lrn(layer):\n",
    "    print(\"name:\", layer[0])\n",
    "    print(\"type:\", layer[1])\n",
    "    param = layer[2][0]\n",
    "    print(\"local_size/depth_radius:\", param[0])\n",
    "    print(\"bias:\", param[1])\n",
    "    print(\"alpha:\", param[2])\n",
    "    print(\"beta:\", param[3])\n",
    "    \n",
    "    lrn = LRN(int(param[0]), param[1], param[2], param[3])\n",
    "    return lrn"
   ]
  },
  {
   "cell_type": "code",
   "execution_count": 8,
   "metadata": {
    "collapsed": true
   },
   "outputs": [],
   "source": [
    "def make_pool(layer):\n",
    "    print(\"name:\", layer[0])\n",
    "    print(\"type:\", layer[1])\n",
    "    print(\"pool type:\", layer[2])\n",
    "    k_size = layer[3][0]\n",
    "    print(\"kernel size:\", k_size)\n",
    "    stride = layer[4][0]\n",
    "    print(\"stride:\", stride)\n",
    "    pad = layer[5][0]\n",
    "    print(\"pad:\", pad)\n",
    "    \n",
    "    padding = nn.ZeroPad2d(tuple(pad.astype(np.int32)))\n",
    "    pool = nn.MaxPool2d(k_size,\n",
    "                        stride=tuple(stride))\n",
    "                        # padding=tuple(pad))\n",
    "    return nn.Sequential(padding, pool)"
   ]
  },
  {
   "cell_type": "markdown",
   "metadata": {},
   "source": [
    "# 1st block"
   ]
  },
  {
   "cell_type": "code",
   "execution_count": 10,
   "metadata": {},
   "outputs": [
    {
     "name": "stdout",
     "output_type": "stream",
     "text": [
      "1 layer\n",
      "name: ['conv1']\n",
      "type: ['conv']\n",
      "kernel: (11, 11, 3, 64) , bias: (64, 1)\n",
      "shape: [11 11  3 64]\n",
      "pad: [0 0 0 0]\n",
      "stride: [4 4]\n",
      "torch.Size([64, 3, 11, 11])\n",
      "torch.Size([64])\n",
      "Conv2d(3, 64, kernel_size=[11 11], stride=(4, 4))\n"
     ]
    }
   ],
   "source": [
    "i = 1\n",
    "print(i, \"layer\")\n",
    "conv1 = make_conv(layers[i-1][0][0])\n",
    "print(conv1)"
   ]
  },
  {
   "cell_type": "code",
   "execution_count": 11,
   "metadata": {},
   "outputs": [
    {
     "name": "stdout",
     "output_type": "stream",
     "text": [
      "2 layer\n",
      "() <class 'numpy.void'> 4\n",
      "name: ['relu1']\n",
      "type: ['relu']\n",
      "ReLU(inplace=True)\n"
     ]
    }
   ],
   "source": [
    "i = 2\n",
    "print(i, \"layer\")\n",
    "lay = layers[i-1]\n",
    "# show(lay)\n",
    "lay = lay[0][0]\n",
    "print(lay.shape, type(lay), len(lay))\n",
    "print(\"name:\", lay[0])\n",
    "print(\"type:\", lay[1])\n",
    "\n",
    "relu1 = nn.ReLU(inplace=True)\n",
    "print(relu1)"
   ]
  },
  {
   "cell_type": "code",
   "execution_count": 12,
   "metadata": {},
   "outputs": [
    {
     "name": "stdout",
     "output_type": "stream",
     "text": [
      "3 layer\n",
      "name: ['norm1']\n",
      "type: ['lrn']\n",
      "local_size/depth_radius: 5.0\n",
      "bias: 2.0\n",
      "alpha: 0.0001\n",
      "beta: 0.75\n",
      "LRN(\n",
      "  (average): AvgPool2d(kernel_size=5.0, stride=1, padding=2)\n",
      ")\n"
     ]
    }
   ],
   "source": [
    "i = 3\n",
    "print(i, \"layer\")\n",
    "lrn1 = make_lrn(layers[i-1][0][0])\n",
    "print(lrn1)"
   ]
  },
  {
   "cell_type": "code",
   "execution_count": 13,
   "metadata": {},
   "outputs": [
    {
     "name": "stdout",
     "output_type": "stream",
     "text": [
      "4 layer\n",
      "name: ['pool1']\n",
      "type: ['pool']\n",
      "pool type: ['max']\n",
      "kernel size: [3 3]\n",
      "stride: [2 2]\n",
      "pad: [0 1 0 1]\n",
      "MaxPool2d(kernel_size=[3 3], stride=(2, 2), padding=(0, 1, 0, 1), dilation=1, ceil_mode=False)\n"
     ]
    }
   ],
   "source": [
    "i = 4\n",
    "print(i, \"layer\")\n",
    "pool1 = make_pool(layers[i-1][0][0])\n",
    "print(pool1)"
   ]
  },
  {
   "cell_type": "markdown",
   "metadata": {},
   "source": [
    "# 2nd block"
   ]
  },
  {
   "cell_type": "code",
   "execution_count": 14,
   "metadata": {},
   "outputs": [
    {
     "name": "stdout",
     "output_type": "stream",
     "text": [
      "5 layer\n",
      "name: ['conv2']\n",
      "type: ['conv']\n",
      "kernel: (5, 5, 64, 256) , bias: (256, 1)\n",
      "shape: [  5   5  64 256]\n",
      "pad: [2 2 2 2]\n",
      "stride: [1 1]\n",
      "torch.Size([256, 64, 5, 5])\n",
      "torch.Size([256])\n",
      "Conv2d(64, 256, kernel_size=[5 5], stride=(1, 1), padding=(2, 2, 2, 2))\n"
     ]
    }
   ],
   "source": [
    "i = 5\n",
    "print(i, \"layer\")\n",
    "conv2 = make_conv(layers[i-1][0][0])\n",
    "print(conv2)"
   ]
  },
  {
   "cell_type": "code",
   "execution_count": 15,
   "metadata": {},
   "outputs": [
    {
     "name": "stdout",
     "output_type": "stream",
     "text": [
      "6 layer\n",
      "() <class 'numpy.void'> 4\n",
      "name: ['relu2']\n",
      "type: ['relu']\n",
      "ReLU(inplace=True)\n"
     ]
    }
   ],
   "source": [
    "i = 6\n",
    "print(i, \"layer\")\n",
    "lay = layers[i-1]\n",
    "# show(lay)\n",
    "lay = lay[0][0]\n",
    "print(lay.shape, type(lay), len(lay))\n",
    "print(\"name:\", lay[0])\n",
    "print(\"type:\", lay[1])\n",
    "\n",
    "relu2 = nn.ReLU(inplace=True)\n",
    "print(relu2)"
   ]
  },
  {
   "cell_type": "code",
   "execution_count": 16,
   "metadata": {},
   "outputs": [
    {
     "name": "stdout",
     "output_type": "stream",
     "text": [
      "7 layer\n",
      "name: ['norm2']\n",
      "type: ['lrn']\n",
      "local_size/depth_radius: 5.0\n",
      "bias: 2.0\n",
      "alpha: 0.0001\n",
      "beta: 0.75\n",
      "LRN(\n",
      "  (average): AvgPool2d(kernel_size=5.0, stride=1, padding=2)\n",
      ")\n"
     ]
    }
   ],
   "source": [
    "i = 7\n",
    "print(i, \"layer\")\n",
    "lrn2 = make_lrn(layers[i-1][0][0])\n",
    "print(lrn2)"
   ]
  },
  {
   "cell_type": "code",
   "execution_count": 17,
   "metadata": {},
   "outputs": [
    {
     "name": "stdout",
     "output_type": "stream",
     "text": [
      "8 layer\n",
      "name: ['pool2']\n",
      "type: ['pool']\n",
      "pool type: ['max']\n",
      "kernel size: [3 3]\n",
      "stride: [2 2]\n",
      "pad: [0 1 0 1]\n",
      "MaxPool2d(kernel_size=[3 3], stride=(2, 2), padding=(0, 1, 0, 1), dilation=1, ceil_mode=False)\n"
     ]
    }
   ],
   "source": [
    "i = 8\n",
    "print(i, \"layer\")\n",
    "pool2 = make_pool(layers[i-1][0][0])\n",
    "print(pool2)"
   ]
  },
  {
   "cell_type": "markdown",
   "metadata": {},
   "source": [
    "# 3rd block"
   ]
  },
  {
   "cell_type": "code",
   "execution_count": 18,
   "metadata": {},
   "outputs": [
    {
     "name": "stdout",
     "output_type": "stream",
     "text": [
      "9 layer\n",
      "name: ['conv3']\n",
      "type: ['conv']\n",
      "kernel: (3, 3, 256, 256) , bias: (256, 1)\n",
      "shape: [  3   3 256 256]\n",
      "pad: [1 1 1 1]\n",
      "stride: [1 1]\n",
      "torch.Size([256, 256, 3, 3])\n",
      "torch.Size([256])\n",
      "Conv2d(256, 256, kernel_size=[3 3], stride=(1, 1), padding=(1, 1, 1, 1))\n"
     ]
    }
   ],
   "source": [
    "i = 9\n",
    "print(i, \"layer\")\n",
    "conv3 = make_conv(layers[i-1][0][0])\n",
    "print(conv3)"
   ]
  },
  {
   "cell_type": "code",
   "execution_count": 19,
   "metadata": {},
   "outputs": [
    {
     "name": "stdout",
     "output_type": "stream",
     "text": [
      "10 layer\n",
      "() <class 'numpy.void'> 4\n",
      "name: ['relu3']\n",
      "type: ['relu']\n",
      "ReLU(inplace=True)\n"
     ]
    }
   ],
   "source": [
    "i = 10\n",
    "print(i, \"layer\")\n",
    "lay = layers[i-1]\n",
    "# show(lay)\n",
    "lay = lay[0][0]\n",
    "print(lay.shape, type(lay), len(lay))\n",
    "print(\"name:\", lay[0])\n",
    "print(\"type:\", lay[1])\n",
    "\n",
    "relu3 = nn.ReLU(inplace=True)\n",
    "print(relu3)"
   ]
  },
  {
   "cell_type": "markdown",
   "metadata": {},
   "source": [
    "# 4th block"
   ]
  },
  {
   "cell_type": "code",
   "execution_count": 20,
   "metadata": {},
   "outputs": [
    {
     "name": "stdout",
     "output_type": "stream",
     "text": [
      "11 layer\n",
      "name: ['conv4']\n",
      "type: ['conv']\n",
      "kernel: (3, 3, 256, 256) , bias: (256, 1)\n",
      "shape: [  3   3 256 256]\n",
      "pad: [1 1 1 1]\n",
      "stride: [1 1]\n",
      "torch.Size([256, 256, 3, 3])\n",
      "torch.Size([256])\n",
      "Conv2d(256, 256, kernel_size=[3 3], stride=(1, 1), padding=(1, 1, 1, 1))\n"
     ]
    }
   ],
   "source": [
    "i = 11\n",
    "print(i, \"layer\")\n",
    "conv4 = make_conv(layers[i-1][0][0])\n",
    "print(conv4)"
   ]
  },
  {
   "cell_type": "code",
   "execution_count": 21,
   "metadata": {},
   "outputs": [
    {
     "name": "stdout",
     "output_type": "stream",
     "text": [
      "12 layer\n",
      "() <class 'numpy.void'> 4\n",
      "name: ['relu4']\n",
      "type: ['relu']\n",
      "ReLU(inplace=True)\n"
     ]
    }
   ],
   "source": [
    "i = 12\n",
    "print(i, \"layer\")\n",
    "lay = layers[i-1]\n",
    "# show(lay)\n",
    "lay = lay[0][0]\n",
    "print(lay.shape, type(lay), len(lay))\n",
    "print(\"name:\", lay[0])\n",
    "print(\"type:\", lay[1])\n",
    "\n",
    "relu4 = nn.ReLU(inplace=True)\n",
    "print(relu4)"
   ]
  },
  {
   "cell_type": "markdown",
   "metadata": {},
   "source": [
    "# 5th block"
   ]
  },
  {
   "cell_type": "code",
   "execution_count": 22,
   "metadata": {},
   "outputs": [
    {
     "name": "stdout",
     "output_type": "stream",
     "text": [
      "13 layer\n",
      "name: ['conv5']\n",
      "type: ['conv']\n",
      "kernel: (3, 3, 256, 256) , bias: (256, 1)\n",
      "shape: [  3   3 256 256]\n",
      "pad: [1 1 1 1]\n",
      "stride: [1 1]\n",
      "torch.Size([256, 256, 3, 3])\n",
      "torch.Size([256])\n",
      "Conv2d(256, 256, kernel_size=[3 3], stride=(1, 1), padding=(1, 1, 1, 1))\n"
     ]
    }
   ],
   "source": [
    "i = 13\n",
    "print(i, \"layer\")\n",
    "conv5 = make_conv(layers[i-1][0][0])\n",
    "print(conv5)"
   ]
  },
  {
   "cell_type": "code",
   "execution_count": 23,
   "metadata": {},
   "outputs": [
    {
     "name": "stdout",
     "output_type": "stream",
     "text": [
      "14 layer\n",
      "() <class 'numpy.void'> 4\n",
      "name: ['relu5']\n",
      "type: ['relu']\n",
      "ReLU(inplace=True)\n"
     ]
    }
   ],
   "source": [
    "i = 14\n",
    "print(i, \"layer\")\n",
    "lay = layers[i-1]\n",
    "# show(lay)\n",
    "lay = lay[0][0]\n",
    "print(lay.shape, type(lay), len(lay))\n",
    "print(\"name:\", lay[0])\n",
    "print(\"type:\", lay[1])\n",
    "\n",
    "relu5 = nn.ReLU(inplace=True)\n",
    "print(relu5)"
   ]
  },
  {
   "cell_type": "code",
   "execution_count": 24,
   "metadata": {},
   "outputs": [
    {
     "name": "stdout",
     "output_type": "stream",
     "text": [
      "15 layer\n",
      "name: ['pool5']\n",
      "type: ['pool']\n",
      "pool type: ['max']\n",
      "kernel size: [3 3]\n",
      "stride: [2 2]\n",
      "pad: [0 1 0 1]\n",
      "MaxPool2d(kernel_size=[3 3], stride=(2, 2), padding=(0, 1, 0, 1), dilation=1, ceil_mode=False)\n"
     ]
    }
   ],
   "source": [
    "i = 15\n",
    "print(i, \"layer\")\n",
    "pool5 = make_pool(layers[i-1][0][0])\n",
    "print(pool5)"
   ]
  },
  {
   "cell_type": "markdown",
   "metadata": {},
   "source": [
    "# 6th block"
   ]
  },
  {
   "cell_type": "code",
   "execution_count": 25,
   "metadata": {},
   "outputs": [
    {
     "name": "stdout",
     "output_type": "stream",
     "text": [
      "16 layer\n",
      "name: ['fc6']\n",
      "type: ['conv']\n",
      "kernel: (6, 6, 256, 4096) , bias: (4096, 1)\n",
      "shape: [   6    6  256 4096]\n",
      "pad: [0 0 0 0]\n",
      "stride: [1 1]\n",
      "torch.Size([4096, 256, 6, 6])\n",
      "torch.Size([4096])\n",
      "Conv2d(256, 4096, kernel_size=[6 6], stride=(1, 1))\n"
     ]
    }
   ],
   "source": [
    "i = 16\n",
    "print(i, \"layer\")\n",
    "fc6 = make_conv(layers[i-1][0][0])\n",
    "print(fc6)"
   ]
  },
  {
   "cell_type": "code",
   "execution_count": 26,
   "metadata": {},
   "outputs": [
    {
     "name": "stdout",
     "output_type": "stream",
     "text": [
      "17 layer\n",
      "() <class 'numpy.void'> 4\n",
      "name: ['relu6']\n",
      "type: ['relu']\n",
      "ReLU(inplace=True)\n"
     ]
    }
   ],
   "source": [
    "i = 17\n",
    "print(i, \"layer\")\n",
    "lay = layers[i-1]\n",
    "# show(lay)\n",
    "lay = lay[0][0]\n",
    "print(lay.shape, type(lay), len(lay))\n",
    "print(\"name:\", lay[0])\n",
    "print(\"type:\", lay[1])\n",
    "\n",
    "relu6 = nn.ReLU(inplace=True)\n",
    "print(relu6)"
   ]
  },
  {
   "cell_type": "markdown",
   "metadata": {},
   "source": [
    "# 7th block"
   ]
  },
  {
   "cell_type": "code",
   "execution_count": 27,
   "metadata": {},
   "outputs": [
    {
     "name": "stdout",
     "output_type": "stream",
     "text": [
      "18 layer\n",
      "name: ['fc7']\n",
      "type: ['conv']\n",
      "kernel: (1, 1, 4096, 4096) , bias: (4096, 1)\n",
      "shape: [   1    1 4096 4096]\n",
      "pad: [0 0 0 0]\n",
      "stride: [1 1]\n",
      "torch.Size([4096, 4096, 1, 1])\n",
      "torch.Size([4096])\n",
      "Conv2d(4096, 4096, kernel_size=[1 1], stride=(1, 1))\n"
     ]
    }
   ],
   "source": [
    "i = 18\n",
    "print(i, \"layer\")\n",
    "fc7 = make_conv(layers[i-1][0][0])\n",
    "print(fc7)"
   ]
  },
  {
   "cell_type": "code",
   "execution_count": 28,
   "metadata": {},
   "outputs": [
    {
     "name": "stdout",
     "output_type": "stream",
     "text": [
      "19 layer\n",
      "() <class 'numpy.void'> 4\n",
      "name: ['relu7']\n",
      "type: ['relu']\n",
      "ReLU(inplace=True)\n"
     ]
    }
   ],
   "source": [
    "i = 19\n",
    "print(i, \"layer\")\n",
    "lay = layers[i-1]\n",
    "# show(lay)\n",
    "lay = lay[0][0]\n",
    "print(lay.shape, type(lay), len(lay))\n",
    "print(\"name:\", lay[0])\n",
    "print(\"type:\", lay[1])\n",
    "\n",
    "relu7 = nn.ReLU(inplace=True)\n",
    "print(relu7)"
   ]
  }
 ],
 "metadata": {
  "kernelspec": {
   "display_name": "Python [conda env:dl]",
   "language": "python",
   "name": "conda-env-dl-py"
  },
  "language_info": {
   "codemirror_mode": {
    "name": "ipython",
    "version": 3
   },
   "file_extension": ".py",
   "mimetype": "text/x-python",
   "name": "python",
   "nbconvert_exporter": "python",
   "pygments_lexer": "ipython3",
   "version": "3.6.2"
  }
 },
 "nbformat": 4,
 "nbformat_minor": 2
}