{
 "cells": [
  {
   "cell_type": "markdown",
   "metadata": {},
   "source": [
    "# imagenet-vgg-f.mat 解析\n",
    "\n",
    "1. 下载链：[imagenet-vgg-f.mat](http://www.vlfeat.org/matconvnet/models/imagenet-vgg-f.mat)；\n",
    "2. 与 [vgg_net.mat](http://www.lamda.nju.edu.cn/jiangqy/data/DCMH_data/vgg-net.zip) 稍有不同：那个是 19 层，这个是 21 层，多了最终两个分类层（fc 和 softmax）；\n",
    "3. 与[CNN-F/VGG-F 参数文件解析](https://github.com/iTomxy/test.CNN-F/blob/master/test.cnnf.ipynb)对比着看；\n",
    "4. 参考：[BMVC 2014 | Return of the Devil in the Details: Delving Deep into Convolutional Nets](https://arxiv.org/abs/1405.3531) 的 table 1，注意两个 fc 层后都是有 dropout 的；\n",
    "5. 经测试，两个文件中是同一个模型，参数**完全**相同；"
   ]
  },
  {
   "cell_type": "code",
   "execution_count": 1,
   "metadata": {},
   "outputs": [],
   "source": [
    "import os\n",
    "import numpy as np\n",
    "import scipy.io as sio"
   ]
  },
  {
   "cell_type": "code",
   "execution_count": 2,
   "metadata": {},
   "outputs": [],
   "source": [
    "# http://www.vlfeat.org/matconvnet/models/imagenet-vgg-f.mat\n",
    "VGG_F = os.path.join(\"G:/dataset\", \"imagenet-vgg-f.mat\")"
   ]
  },
  {
   "cell_type": "code",
   "execution_count": 3,
   "metadata": {},
   "outputs": [
    {
     "data": {
      "text/plain": [
       "dict_keys(['__header__', '__version__', '__globals__', 'layers', 'meta'])"
      ]
     },
     "execution_count": 3,
     "metadata": {},
     "output_type": "execute_result"
    }
   ],
   "source": [
    "cnnf = sio.loadmat(VGG_F)\n",
    "cnnf.keys()"
   ]
  },
  {
   "cell_type": "code",
   "execution_count": 4,
   "metadata": {},
   "outputs": [
    {
     "name": "stdout",
     "output_type": "stream",
     "text": [
      "(1, 21)\n"
     ]
    },
    {
     "data": {
      "text/plain": [
       "(21,)"
      ]
     },
     "execution_count": 4,
     "metadata": {},
     "output_type": "execute_result"
    }
   ],
   "source": [
    "layers = cnnf[\"layers\"]\n",
    "print(layers.shape)\n",
    "weights = layers[0]\n",
    "weights.shape"
   ]
  },
  {
   "cell_type": "markdown",
   "metadata": {},
   "source": [
    "# 1st block"
   ]
  },
  {
   "cell_type": "code",
   "execution_count": 5,
   "metadata": {},
   "outputs": [
    {
     "name": "stdout",
     "output_type": "stream",
     "text": [
      "1 layer\n",
      "len: 9\n",
      "name: ['conv1']\n",
      "type: ['conv']\n",
      "kernel: (11, 11, 3, 64)\n",
      "bias: (64, 1)\n",
      "kernel shape: [[11 11  3 64]]\n",
      "pad: [[0 0 0 0]]\n",
      "stride: [[4 4]]\n",
      "?: [[0]]\n",
      "?: [[1]]\n",
      "?: []\n"
     ]
    }
   ],
   "source": [
    "i = 0\n",
    "print(i + 1, \"layer\")\n",
    "lay = weights[i][0][0]\n",
    "print(\"len:\", len(lay))\n",
    "print(\"name:\", lay[0])\n",
    "print(\"type:\", lay[1])\n",
    "k, b = lay[2][0]\n",
    "print(\"kernel:\", k.shape)\n",
    "print(\"bias:\", b.shape)\n",
    "print(\"kernel shape:\", lay[3])\n",
    "print(\"pad:\", lay[4])\n",
    "print(\"stride:\", lay[5])\n",
    "print(\"?:\", lay[6])\n",
    "print(\"?:\", lay[7])\n",
    "print(\"?:\", lay[8])"
   ]
  },
  {
   "cell_type": "code",
   "execution_count": 6,
   "metadata": {},
   "outputs": [
    {
     "name": "stdout",
     "output_type": "stream",
     "text": [
      "2 layer\n",
      "len: 5\n",
      "name: ['relu1']\n",
      "type: ['relu']\n",
      "?: [[0]]\n",
      "?: []\n",
      "?: [[0]]\n"
     ]
    }
   ],
   "source": [
    "i = 1\n",
    "print(i + 1, \"layer\")\n",
    "lay = weights[i][0][0]\n",
    "print(\"len:\", len(lay))\n",
    "print(\"name:\", lay[0])\n",
    "print(\"type:\", lay[1])\n",
    "print(\"?:\", lay[2])\n",
    "print(\"?:\", lay[3])\n",
    "print(\"?:\", lay[4])"
   ]
  },
  {
   "cell_type": "code",
   "execution_count": 7,
   "metadata": {},
   "outputs": [
    {
     "name": "stdout",
     "output_type": "stream",
     "text": [
      "3 layer\n",
      "len: 5\n",
      "name: ['norm1']\n",
      "type: ['lrn']\n",
      "local_size/depth_radius: 5.0\n",
      "bias: 2.0\n",
      "alpha: 0.0001\n",
      "beta: 0.75\n",
      "?: []\n",
      "?: [[0]]\n"
     ]
    }
   ],
   "source": [
    "i = 2\n",
    "print(i + 1, \"layer\")\n",
    "lay = weights[i][0][0]\n",
    "print(\"len:\", len(lay))\n",
    "print(\"name:\", lay[0])\n",
    "print(\"type:\", lay[1])\n",
    "param = lay[2][0]\n",
    "print(\"local_size/depth_radius:\", param[0])\n",
    "print(\"bias:\", param[1])\n",
    "print(\"alpha:\", param[2])\n",
    "print(\"beta:\", param[3])\n",
    "print(\"?:\", lay[3])\n",
    "print(\"?:\", lay[4])"
   ]
  },
  {
   "cell_type": "code",
   "execution_count": 8,
   "metadata": {},
   "outputs": [
    {
     "name": "stdout",
     "output_type": "stream",
     "text": [
      "4 layer\n",
      "len: 9\n",
      "name: ['pool1']\n",
      "type: ['pool']\n",
      "pool type: ['max']\n",
      "pool size: [[3 3]]\n",
      "stride: [[2 2]]\n",
      "pad: [[0 1 0 1]]\n",
      "?: []\n",
      "?: [[0]]\n",
      "?: []\n"
     ]
    }
   ],
   "source": [
    "i = 3\n",
    "print(i + 1, \"layer\")\n",
    "lay = weights[i][0][0]\n",
    "print(\"len:\", len(lay))\n",
    "print(\"name:\", lay[0])\n",
    "print(\"type:\", lay[1])\n",
    "print(\"pool type:\", lay[2])\n",
    "print(\"pool size:\", lay[3])\n",
    "print(\"stride:\",lay[4])\n",
    "print(\"pad:\", lay[5])\n",
    "print(\"?:\", lay[6])\n",
    "print(\"?:\", lay[7])\n",
    "print(\"?:\", lay[8])"
   ]
  },
  {
   "cell_type": "markdown",
   "metadata": {},
   "source": [
    "# 2nd block"
   ]
  },
  {
   "cell_type": "code",
   "execution_count": 9,
   "metadata": {},
   "outputs": [
    {
     "name": "stdout",
     "output_type": "stream",
     "text": [
      "5 layer\n",
      "len: 9\n",
      "name: ['conv2']\n",
      "type: ['conv']\n",
      "kernel: (5, 5, 64, 256)\n",
      "bias: (256, 1)\n",
      "kernel shape: [[  5   5  64 256]]\n",
      "pad: [[2 2 2 2]]\n",
      "stride: [[1 1]]\n",
      "?: [[0]]\n",
      "?: [[1]]\n",
      "?: []\n"
     ]
    }
   ],
   "source": [
    "i = 4\n",
    "print(i + 1, \"layer\")\n",
    "lay = weights[i][0][0]\n",
    "print(\"len:\", len(lay))\n",
    "print(\"name:\", lay[0])\n",
    "print(\"type:\", lay[1])\n",
    "k, b = lay[2][0]\n",
    "print(\"kernel:\", k.shape)\n",
    "print(\"bias:\", b.shape)\n",
    "print(\"kernel shape:\", lay[3])\n",
    "print(\"pad:\", lay[4])\n",
    "print(\"stride:\", lay[5])\n",
    "print(\"?:\", lay[6])\n",
    "print(\"?:\", lay[7])\n",
    "print(\"?:\", lay[8])"
   ]
  },
  {
   "cell_type": "code",
   "execution_count": 10,
   "metadata": {},
   "outputs": [
    {
     "name": "stdout",
     "output_type": "stream",
     "text": [
      "6 layer\n",
      "len: 5\n",
      "name: ['relu2']\n",
      "type: ['relu']\n",
      "?: [[0]]\n",
      "?: []\n",
      "?: [[0]]\n"
     ]
    }
   ],
   "source": [
    "i = 5\n",
    "print(i + 1, \"layer\")\n",
    "lay = weights[i][0][0]\n",
    "print(\"len:\", len(lay))\n",
    "print(\"name:\", lay[0])\n",
    "print(\"type:\", lay[1])\n",
    "print(\"?:\", lay[2])\n",
    "print(\"?:\", lay[3])\n",
    "print(\"?:\", lay[4])"
   ]
  },
  {
   "cell_type": "code",
   "execution_count": 11,
   "metadata": {},
   "outputs": [
    {
     "name": "stdout",
     "output_type": "stream",
     "text": [
      "7 layer\n",
      "len: 5\n",
      "name: ['norm2']\n",
      "type: ['lrn']\n",
      "local_size/depth_radius: 5.0\n",
      "bias: 2.0\n",
      "alpha: 0.0001\n",
      "beta: 0.75\n",
      "?: []\n",
      "?: [[0]]\n"
     ]
    }
   ],
   "source": [
    "i = 6\n",
    "print(i + 1, \"layer\")\n",
    "lay = weights[i][0][0]\n",
    "print(\"len:\", len(lay))\n",
    "print(\"name:\", lay[0])\n",
    "print(\"type:\", lay[1])\n",
    "param = lay[2][0]\n",
    "print(\"local_size/depth_radius:\", param[0])\n",
    "print(\"bias:\", param[1])\n",
    "print(\"alpha:\", param[2])\n",
    "print(\"beta:\", param[3])\n",
    "print(\"?:\", lay[3])\n",
    "print(\"?:\", lay[4])"
   ]
  },
  {
   "cell_type": "code",
   "execution_count": 12,
   "metadata": {},
   "outputs": [
    {
     "name": "stdout",
     "output_type": "stream",
     "text": [
      "8 layer\n",
      "len: 9\n",
      "name: ['pool2']\n",
      "type: ['pool']\n",
      "pool type: ['max']\n",
      "pool size: [[3 3]]\n",
      "stride: [[2 2]]\n",
      "pad: [[0 1 0 1]]\n",
      "?: []\n",
      "?: [[0]]\n",
      "?: []\n"
     ]
    }
   ],
   "source": [
    "i = 7\n",
    "print(i + 1, \"layer\")\n",
    "lay = weights[i][0][0]\n",
    "print(\"len:\", len(lay))\n",
    "print(\"name:\", lay[0])\n",
    "print(\"type:\", lay[1])\n",
    "print(\"pool type:\", lay[2])\n",
    "print(\"pool size:\", lay[3])\n",
    "print(\"stride:\",lay[4])\n",
    "print(\"pad:\", lay[5])\n",
    "print(\"?:\", lay[6])\n",
    "print(\"?:\", lay[7])\n",
    "print(\"?:\", lay[8])"
   ]
  },
  {
   "cell_type": "markdown",
   "metadata": {},
   "source": [
    "# 3rd block"
   ]
  },
  {
   "cell_type": "code",
   "execution_count": 13,
   "metadata": {},
   "outputs": [
    {
     "name": "stdout",
     "output_type": "stream",
     "text": [
      "9 layer\n",
      "len: 9\n",
      "name: ['conv3']\n",
      "type: ['conv']\n",
      "kernel: (3, 3, 256, 256)\n",
      "bias: (256, 1)\n",
      "kernel shape: [[  3   3 256 256]]\n",
      "pad: [[1 1 1 1]]\n",
      "stride: [[1 1]]\n",
      "?: [[0]]\n",
      "?: [[1]]\n",
      "?: []\n"
     ]
    }
   ],
   "source": [
    "i = 8\n",
    "print(i + 1, \"layer\")\n",
    "lay = weights[i][0][0]\n",
    "print(\"len:\", len(lay))\n",
    "print(\"name:\", lay[0])\n",
    "print(\"type:\", lay[1])\n",
    "k, b = lay[2][0]\n",
    "print(\"kernel:\", k.shape)\n",
    "print(\"bias:\", b.shape)\n",
    "print(\"kernel shape:\", lay[3])\n",
    "print(\"pad:\", lay[4])\n",
    "print(\"stride:\", lay[5])\n",
    "print(\"?:\", lay[6])\n",
    "print(\"?:\", lay[7])\n",
    "print(\"?:\", lay[8])"
   ]
  },
  {
   "cell_type": "code",
   "execution_count": 14,
   "metadata": {},
   "outputs": [
    {
     "name": "stdout",
     "output_type": "stream",
     "text": [
      "10 layer\n",
      "len: 5\n",
      "name: ['relu3']\n",
      "type: ['relu']\n",
      "?: [[0]]\n",
      "?: []\n",
      "?: [[0]]\n"
     ]
    }
   ],
   "source": [
    "i = 9\n",
    "print(i + 1, \"layer\")\n",
    "lay = weights[i][0][0]\n",
    "print(\"len:\", len(lay))\n",
    "print(\"name:\", lay[0])\n",
    "print(\"type:\", lay[1])\n",
    "print(\"?:\", lay[2])\n",
    "print(\"?:\", lay[3])\n",
    "print(\"?:\", lay[4])"
   ]
  },
  {
   "cell_type": "markdown",
   "metadata": {},
   "source": [
    "# 4th block"
   ]
  },
  {
   "cell_type": "code",
   "execution_count": 15,
   "metadata": {},
   "outputs": [
    {
     "name": "stdout",
     "output_type": "stream",
     "text": [
      "11 layer\n",
      "len: 9\n",
      "name: ['conv4']\n",
      "type: ['conv']\n",
      "kernel: (3, 3, 256, 256)\n",
      "bias: (256, 1)\n",
      "kernel shape: [[  3   3 256 256]]\n",
      "pad: [[1 1 1 1]]\n",
      "stride: [[1 1]]\n",
      "?: [[0]]\n",
      "?: [[1]]\n",
      "?: []\n"
     ]
    }
   ],
   "source": [
    "i = 10\n",
    "print(i + 1, \"layer\")\n",
    "lay = weights[i][0][0]\n",
    "print(\"len:\", len(lay))\n",
    "print(\"name:\", lay[0])\n",
    "print(\"type:\", lay[1])\n",
    "k, b = lay[2][0]\n",
    "print(\"kernel:\", k.shape)\n",
    "print(\"bias:\", b.shape)\n",
    "print(\"kernel shape:\", lay[3])\n",
    "print(\"pad:\", lay[4])\n",
    "print(\"stride:\", lay[5])\n",
    "print(\"?:\", lay[6])\n",
    "print(\"?:\", lay[7])\n",
    "print(\"?:\", lay[8])"
   ]
  },
  {
   "cell_type": "code",
   "execution_count": 16,
   "metadata": {},
   "outputs": [
    {
     "name": "stdout",
     "output_type": "stream",
     "text": [
      "12 layer\n",
      "len: 5\n",
      "name: ['relu4']\n",
      "type: ['relu']\n",
      "?: [[0]]\n",
      "?: []\n",
      "?: [[0]]\n"
     ]
    }
   ],
   "source": [
    "i = 11\n",
    "print(i + 1, \"layer\")\n",
    "lay = weights[i][0][0]\n",
    "print(\"len:\", len(lay))\n",
    "print(\"name:\", lay[0])\n",
    "print(\"type:\", lay[1])\n",
    "print(\"?:\", lay[2])\n",
    "print(\"?:\", lay[3])\n",
    "print(\"?:\", lay[4])"
   ]
  },
  {
   "cell_type": "markdown",
   "metadata": {},
   "source": [
    "# 5th block"
   ]
  },
  {
   "cell_type": "code",
   "execution_count": 17,
   "metadata": {},
   "outputs": [
    {
     "name": "stdout",
     "output_type": "stream",
     "text": [
      "13 layer\n",
      "len: 9\n",
      "name: ['conv5']\n",
      "type: ['conv']\n",
      "kernel: (3, 3, 256, 256)\n",
      "bias: (256, 1)\n",
      "kernel shape: [[  3   3 256 256]]\n",
      "pad: [[1 1 1 1]]\n",
      "stride: [[1 1]]\n",
      "?: [[0]]\n",
      "?: [[1]]\n",
      "?: []\n"
     ]
    }
   ],
   "source": [
    "i = 12\n",
    "print(i + 1, \"layer\")\n",
    "lay = weights[i][0][0]\n",
    "print(\"len:\", len(lay))\n",
    "print(\"name:\", lay[0])\n",
    "print(\"type:\", lay[1])\n",
    "k, b = lay[2][0]\n",
    "print(\"kernel:\", k.shape)\n",
    "print(\"bias:\", b.shape)\n",
    "print(\"kernel shape:\", lay[3])\n",
    "print(\"pad:\", lay[4])\n",
    "print(\"stride:\", lay[5])\n",
    "print(\"?:\", lay[6])\n",
    "print(\"?:\", lay[7])\n",
    "print(\"?:\", lay[8])"
   ]
  },
  {
   "cell_type": "code",
   "execution_count": 18,
   "metadata": {},
   "outputs": [
    {
     "name": "stdout",
     "output_type": "stream",
     "text": [
      "14 layer\n",
      "len: 5\n",
      "name: ['relu5']\n",
      "type: ['relu']\n",
      "?: [[0]]\n",
      "?: []\n",
      "?: [[0]]\n"
     ]
    }
   ],
   "source": [
    "i = 13\n",
    "print(i + 1, \"layer\")\n",
    "lay = weights[i][0][0]\n",
    "print(\"len:\", len(lay))\n",
    "print(\"name:\", lay[0])\n",
    "print(\"type:\", lay[1])\n",
    "print(\"?:\", lay[2])\n",
    "print(\"?:\", lay[3])\n",
    "print(\"?:\", lay[4])"
   ]
  },
  {
   "cell_type": "code",
   "execution_count": 19,
   "metadata": {},
   "outputs": [
    {
     "name": "stdout",
     "output_type": "stream",
     "text": [
      "15 layer\n",
      "len: 9\n",
      "name: ['pool5']\n",
      "type: ['pool']\n",
      "pool type: ['max']\n",
      "pool size: [[3 3]]\n",
      "stride: [[2 2]]\n",
      "pad: [[0 1 0 1]]\n",
      "?: []\n",
      "?: [[0]]\n",
      "?: []\n"
     ]
    }
   ],
   "source": [
    "i = 14\n",
    "print(i + 1, \"layer\")\n",
    "lay = weights[i][0][0]\n",
    "print(\"len:\", len(lay))\n",
    "print(\"name:\", lay[0])\n",
    "print(\"type:\", lay[1])\n",
    "print(\"pool type:\", lay[2])\n",
    "print(\"pool size:\", lay[3])\n",
    "print(\"stride:\",lay[4])\n",
    "print(\"pad:\", lay[5])\n",
    "print(\"?:\", lay[6])\n",
    "print(\"?:\", lay[7])\n",
    "print(\"?:\", lay[8])"
   ]
  },
  {
   "cell_type": "markdown",
   "metadata": {},
   "source": [
    "# 6th block"
   ]
  },
  {
   "cell_type": "code",
   "execution_count": 20,
   "metadata": {},
   "outputs": [
    {
     "name": "stdout",
     "output_type": "stream",
     "text": [
      "16 layer\n",
      "len: 9\n",
      "name: ['fc6']\n",
      "type: ['conv']\n",
      "kernel: (6, 6, 256, 4096)\n",
      "bias: (4096, 1)\n",
      "kernel shape: [[   6    6  256 4096]]\n",
      "pad: [[0 0 0 0]]\n",
      "stride: [[1 1]]\n",
      "?: [[0]]\n",
      "?: [[1]]\n",
      "?: []\n"
     ]
    }
   ],
   "source": [
    "i = 15\n",
    "print(i + 1, \"layer\")\n",
    "lay = weights[i][0][0]\n",
    "print(\"len:\", len(lay))\n",
    "print(\"name:\", lay[0])\n",
    "print(\"type:\", lay[1])\n",
    "k, b = lay[2][0]\n",
    "print(\"kernel:\", k.shape)\n",
    "print(\"bias:\", b.shape)\n",
    "print(\"kernel shape:\", lay[3])\n",
    "print(\"pad:\", lay[4])\n",
    "print(\"stride:\", lay[5])\n",
    "print(\"?:\", lay[6])\n",
    "print(\"?:\", lay[7])\n",
    "print(\"?:\", lay[8])"
   ]
  },
  {
   "cell_type": "code",
   "execution_count": 21,
   "metadata": {},
   "outputs": [
    {
     "name": "stdout",
     "output_type": "stream",
     "text": [
      "17 layer\n",
      "len: 5\n",
      "name: ['relu6']\n",
      "type: ['relu']\n",
      "?: [[0]]\n",
      "?: []\n",
      "?: [[0]]\n"
     ]
    }
   ],
   "source": [
    "i = 16\n",
    "print(i + 1, \"layer\")\n",
    "lay = weights[i][0][0]\n",
    "print(\"len:\", len(lay))\n",
    "print(\"name:\", lay[0])\n",
    "print(\"type:\", lay[1])\n",
    "print(\"?:\", lay[2])\n",
    "print(\"?:\", lay[3])\n",
    "print(\"?:\", lay[4])"
   ]
  },
  {
   "cell_type": "markdown",
   "metadata": {},
   "source": [
    "# 7th block"
   ]
  },
  {
   "cell_type": "code",
   "execution_count": 22,
   "metadata": {},
   "outputs": [
    {
     "name": "stdout",
     "output_type": "stream",
     "text": [
      "18 layer\n",
      "len: 9\n",
      "name: ['fc7']\n",
      "type: ['conv']\n",
      "kernel: (1, 1, 4096, 4096)\n",
      "bias: (4096, 1)\n",
      "kernel shape: [[   1    1 4096 4096]]\n",
      "pad: [[0 0 0 0]]\n",
      "stride: [[1 1]]\n",
      "?: [[0]]\n",
      "?: [[1]]\n",
      "?: []\n"
     ]
    }
   ],
   "source": [
    "i = 17\n",
    "print(i + 1, \"layer\")\n",
    "lay = weights[i][0][0]\n",
    "print(\"len:\", len(lay))\n",
    "print(\"name:\", lay[0])\n",
    "print(\"type:\", lay[1])\n",
    "k, b = lay[2][0]\n",
    "print(\"kernel:\", k.shape)\n",
    "print(\"bias:\", b.shape)\n",
    "print(\"kernel shape:\", lay[3])\n",
    "print(\"pad:\", lay[4])\n",
    "print(\"stride:\", lay[5])\n",
    "print(\"?:\", lay[6])\n",
    "print(\"?:\", lay[7])\n",
    "print(\"?:\", lay[8])"
   ]
  },
  {
   "cell_type": "code",
   "execution_count": 23,
   "metadata": {},
   "outputs": [
    {
     "name": "stdout",
     "output_type": "stream",
     "text": [
      "19 layer\n",
      "len: 5\n",
      "name: ['relu7']\n",
      "type: ['relu']\n",
      "?: [[0]]\n",
      "?: []\n",
      "?: [[0]]\n"
     ]
    }
   ],
   "source": [
    "i = 18\n",
    "print(i + 1, \"layer\")\n",
    "lay = weights[i][0][0]\n",
    "print(\"len:\", len(lay))\n",
    "print(\"name:\", lay[0])\n",
    "print(\"type:\", lay[1])\n",
    "print(\"?:\", lay[2])\n",
    "print(\"?:\", lay[3])\n",
    "print(\"?:\", lay[4])"
   ]
  },
  {
   "cell_type": "markdown",
   "metadata": {},
   "source": [
    "# 8th block"
   ]
  },
  {
   "cell_type": "code",
   "execution_count": 24,
   "metadata": {},
   "outputs": [
    {
     "name": "stdout",
     "output_type": "stream",
     "text": [
      "20 layer\n",
      "len: 9\n",
      "name: ['fc8']\n",
      "type: ['conv']\n",
      "kernel: (1, 1, 4096, 1000)\n",
      "bias: (1000, 1)\n",
      "kernel shape: [[   1    1 4096 1000]]\n",
      "pad: [[0 0 0 0]]\n",
      "stride: [[1 1]]\n",
      "?: [[0]]\n",
      "?: [[1]]\n",
      "?: []\n"
     ]
    }
   ],
   "source": [
    "i = 19\n",
    "print(i + 1, \"layer\")\n",
    "lay = weights[i][0][0]\n",
    "print(\"len:\", len(lay))\n",
    "print(\"name:\", lay[0])\n",
    "print(\"type:\", lay[1])\n",
    "k, b = lay[2][0]\n",
    "print(\"kernel:\", k.shape)\n",
    "print(\"bias:\", b.shape)\n",
    "print(\"kernel shape:\", lay[3])\n",
    "print(\"pad:\", lay[4])\n",
    "print(\"stride:\", lay[5])\n",
    "print(\"?:\", lay[6])\n",
    "print(\"?:\", lay[7])\n",
    "print(\"?:\", lay[8])"
   ]
  },
  {
   "cell_type": "code",
   "execution_count": 25,
   "metadata": {},
   "outputs": [
    {
     "name": "stdout",
     "output_type": "stream",
     "text": [
      "21 layer\n",
      "len: 4\n",
      "name: ['prob']\n",
      "type: ['softmax']\n",
      "?: []\n",
      "?: [[0]]\n"
     ]
    }
   ],
   "source": [
    "i = 20\n",
    "print(i + 1, \"layer\")\n",
    "lay = weights[i][0][0]\n",
    "print(\"len:\", len(lay))\n",
    "print(\"name:\", lay[0])\n",
    "print(\"type:\", lay[1])\n",
    "print(\"?:\", lay[2])\n",
    "print(\"?:\", lay[3])"
   ]
  },
  {
   "cell_type": "code",
   "execution_count": null,
   "metadata": {},
   "outputs": [],
   "source": []
  }
 ],
 "metadata": {
  "kernelspec": {
   "display_name": "Python 3",
   "language": "python",
   "name": "python3"
  },
  "language_info": {
   "codemirror_mode": {
    "name": "ipython",
    "version": 3
   },
   "file_extension": ".py",
   "mimetype": "text/x-python",
   "name": "python",
   "nbconvert_exporter": "python",
   "pygments_lexer": "ipython3",
   "version": "3.7.4"
  }
 },
 "nbformat": 4,
 "nbformat_minor": 2
}
