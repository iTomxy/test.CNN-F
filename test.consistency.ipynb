{
 "cells": [
  {
   "cell_type": "markdown",
   "metadata": {},
   "source": [
    "# vgg_net.mat 与 DCMH.imagenet-vgg-f.mat 对比\n",
    "- `DCMH.imagenet-vgg-f.mat` 是指 [DCMH](https://github.com/jiangqy/DCMH-CVPR2017/issues/4#issuecomment-529158524) 以前提供的参数文件（旧），与 [vlfeat 官网](http://www.vlfeat.org/matconvnet/models/imagenet-vgg-f.mat) 下的稍有不同，而 `vgg_net.mat` 是旧链接失效后 DCMH 作者新提供的（新）。\n",
    "- 旧文件是 [DCMH](https://github.com/jiangqy/DCMH-CVPR2017) 和 [SSAH](https://github.com/lelan-li/SSAH) 代码中用到的文件，可在 [MIR-flickr25k](https://pan.baidu.com/s/19Zud5NQRKQRdcpGGJtpKjg) 找到。\n",
    "- [imagenet-vgg-f.mat 解析](https://github.com/iTomxy/test.CNN-F/blob/master/test.vggf.ipynb) 中已验证 `vgg_net.mat` 与 `imagenet-vgg-f.mat` 参数的一致性，这里验证 `vgg_net.mat` 与 `DCMH.imagenet-vgg-f.mat` 参数的一致性。\n",
    "- 经验证，参数是**一样**的，即 3 份文件的参数到相同。"
   ]
  },
  {
   "cell_type": "code",
   "execution_count": 1,
   "metadata": {
    "ExecuteTime": {
     "end_time": "2020-11-03T02:16:59.172720Z",
     "start_time": "2020-11-03T02:16:56.913660Z"
    }
   },
   "outputs": [],
   "source": [
    "import os\n",
    "import numpy as np\n",
    "import scipy.io as sio"
   ]
  },
  {
   "cell_type": "code",
   "execution_count": 2,
   "metadata": {
    "ExecuteTime": {
     "end_time": "2020-11-03T02:17:34.596836Z",
     "start_time": "2020-11-03T02:17:34.591835Z"
    }
   },
   "outputs": [],
   "source": [
    "m_old = \"DCMH.imagenet-vgg-f.mat\"\n",
    "m_new = \"vgg_net.mat\""
   ]
  },
  {
   "cell_type": "code",
   "execution_count": 3,
   "metadata": {
    "ExecuteTime": {
     "end_time": "2020-11-03T02:19:26.719156Z",
     "start_time": "2020-11-03T02:19:23.728936Z"
    }
   },
   "outputs": [],
   "source": [
    "vgg_old = sio.loadmat(m_old)\n",
    "vgg_new = sio.loadmat(m_new)"
   ]
  },
  {
   "cell_type": "code",
   "execution_count": 4,
   "metadata": {
    "ExecuteTime": {
     "end_time": "2020-11-03T02:20:02.757936Z",
     "start_time": "2020-11-03T02:20:02.752935Z"
    }
   },
   "outputs": [],
   "source": [
    "net_old = vgg_old[\"layers\"][0]\n",
    "net_new = vgg_new[\"net\"][0][0][0][0]"
   ]
  },
  {
   "cell_type": "code",
   "execution_count": 20,
   "metadata": {
    "ExecuteTime": {
     "end_time": "2020-11-03T02:26:31.020427Z",
     "start_time": "2020-11-03T02:26:31.011431Z"
    }
   },
   "outputs": [
    {
     "data": {
      "text/plain": [
       "(19, 19)"
      ]
     },
     "execution_count": 20,
     "metadata": {},
     "output_type": "execute_result"
    }
   ],
   "source": [
    "len(net_old), len(net_new)"
   ]
  },
  {
   "cell_type": "markdown",
   "metadata": {},
   "source": [
    "# comparing func"
   ]
  },
  {
   "cell_type": "code",
   "execution_count": 37,
   "metadata": {
    "ExecuteTime": {
     "end_time": "2020-11-03T02:36:06.384137Z",
     "start_time": "2020-11-03T02:36:06.369114Z"
    }
   },
   "outputs": [],
   "source": [
    "def conv(i, lay_old, lay_new):\n",
    "    print(i + 1, \"layer\")\n",
    "    print(\"- old- \")\n",
    "    lay = net_old[i][0][0]\n",
    "    print(\"len:\", len(lay))\n",
    "    k_old, b_old = lay[0][0]\n",
    "    print(\"kernel:\", k_old.shape, \", bias:\", b_old.shape)\n",
    "    print(\"pad:\", lay[1])\n",
    "    print(\"type:\", lay[2])\n",
    "    print(\"name:\", lay[3])\n",
    "    print(\"stride:\", lay[4])\n",
    "    print(\"- new- \")\n",
    "    lay = lay_new[0][0]\n",
    "    print(\"len:\", len(lay))\n",
    "    print(\"name:\", lay[0])\n",
    "    print(\"type:\", lay[1])\n",
    "    k_new, b_new = lay[2][0]\n",
    "    print(\"kernel:\", k_new.shape, \", bias:\", b_new.shape)\n",
    "    print(\"shape:\", lay[3])\n",
    "    print(\"pad:\", lay[4])\n",
    "    print(\"stride:\", lay[5])\n",
    "    print(\"- diff -\")\n",
    "    print(\"k diff:\", np.fabs(k_old - k_new).sum())\n",
    "    print(\"b diff:\", np.fabs(b_old.flatten() - b_new.flatten()).sum())"
   ]
  },
  {
   "cell_type": "markdown",
   "metadata": {},
   "source": [
    "# comparasion"
   ]
  },
  {
   "cell_type": "code",
   "execution_count": 39,
   "metadata": {
    "ExecuteTime": {
     "end_time": "2020-11-03T02:38:46.135507Z",
     "start_time": "2020-11-03T02:38:45.602525Z"
    },
    "scrolled": false
   },
   "outputs": [
    {
     "name": "stdout",
     "output_type": "stream",
     "text": [
      "1 layer\n",
      "- old- \n",
      "len: 5\n",
      "kernel: (11, 11, 3, 64) , bias: (1, 64)\n",
      "pad: [[0 0 0 0]]\n",
      "type: ['conv']\n",
      "name: ['conv1']\n",
      "stride: [[4 4]]\n",
      "- new- \n",
      "len: 8\n",
      "name: ['conv1']\n",
      "type: ['conv']\n",
      "kernel: (11, 11, 3, 64) , bias: (64, 1)\n",
      "shape: [[11 11  3 64]]\n",
      "pad: [[0 0 0 0]]\n",
      "stride: [[4 4]]\n",
      "- diff -\n",
      "k diff: 0.0\n",
      "b diff: 0.0\n",
      "5 layer\n",
      "- old- \n",
      "len: 5\n",
      "kernel: (5, 5, 64, 256) , bias: (1, 256)\n",
      "pad: [[2 2 2 2]]\n",
      "type: ['conv']\n",
      "name: ['conv2']\n",
      "stride: [[1 1]]\n",
      "- new- \n",
      "len: 8\n",
      "name: ['conv2']\n",
      "type: ['conv']\n",
      "kernel: (5, 5, 64, 256) , bias: (256, 1)\n",
      "shape: [[  5   5  64 256]]\n",
      "pad: [[2 2 2 2]]\n",
      "stride: [[1 1]]\n",
      "- diff -\n",
      "k diff: 0.0\n",
      "b diff: 0.0\n",
      "9 layer\n",
      "- old- \n",
      "len: 5\n",
      "kernel: (3, 3, 256, 256) , bias: (1, 256)\n",
      "pad: [[1 1 1 1]]\n",
      "type: ['conv']\n",
      "name: ['conv3']\n",
      "stride: [[1 1]]\n",
      "- new- \n",
      "len: 8\n",
      "name: ['conv3']\n",
      "type: ['conv']\n",
      "kernel: (3, 3, 256, 256) , bias: (256, 1)\n",
      "shape: [[  3   3 256 256]]\n",
      "pad: [[1 1 1 1]]\n",
      "stride: [[1 1]]\n",
      "- diff -\n",
      "k diff: 0.0\n",
      "b diff: 0.0\n",
      "11 layer\n",
      "- old- \n",
      "len: 5\n",
      "kernel: (3, 3, 256, 256) , bias: (1, 256)\n",
      "pad: [[1 1 1 1]]\n",
      "type: ['conv']\n",
      "name: ['conv4']\n",
      "stride: [[1 1]]\n",
      "- new- \n",
      "len: 8\n",
      "name: ['conv4']\n",
      "type: ['conv']\n",
      "kernel: (3, 3, 256, 256) , bias: (256, 1)\n",
      "shape: [[  3   3 256 256]]\n",
      "pad: [[1 1 1 1]]\n",
      "stride: [[1 1]]\n",
      "- diff -\n",
      "k diff: 0.0\n",
      "b diff: 0.0\n",
      "13 layer\n",
      "- old- \n",
      "len: 5\n",
      "kernel: (3, 3, 256, 256) , bias: (1, 256)\n",
      "pad: [[1 1 1 1]]\n",
      "type: ['conv']\n",
      "name: ['conv5']\n",
      "stride: [[1 1]]\n",
      "- new- \n",
      "len: 8\n",
      "name: ['conv5']\n",
      "type: ['conv']\n",
      "kernel: (3, 3, 256, 256) , bias: (256, 1)\n",
      "shape: [[  3   3 256 256]]\n",
      "pad: [[1 1 1 1]]\n",
      "stride: [[1 1]]\n",
      "- diff -\n",
      "k diff: 0.0\n",
      "b diff: 0.0\n",
      "16 layer\n",
      "- old- \n",
      "len: 5\n",
      "kernel: (6, 6, 256, 4096) , bias: (1, 4096)\n",
      "pad: [[0 0 0 0]]\n",
      "type: ['conv']\n",
      "name: ['fc6']\n",
      "stride: [[1 1]]\n",
      "- new- \n",
      "len: 8\n",
      "name: ['fc6']\n",
      "type: ['conv']\n",
      "kernel: (6, 6, 256, 4096) , bias: (4096, 1)\n",
      "shape: [[   6    6  256 4096]]\n",
      "pad: [[0 0 0 0]]\n",
      "stride: [[1 1]]\n",
      "- diff -\n",
      "k diff: 0.0\n",
      "b diff: 0.0\n",
      "18 layer\n",
      "- old- \n",
      "len: 5\n",
      "kernel: (1, 1, 4096, 4096) , bias: (1, 4096)\n",
      "pad: [[0 0 0 0]]\n",
      "type: ['conv']\n",
      "name: ['fc7']\n",
      "stride: [[1 1]]\n",
      "- new- \n",
      "len: 8\n",
      "name: ['fc7']\n",
      "type: ['conv']\n",
      "kernel: (1, 1, 4096, 4096) , bias: (4096, 1)\n",
      "shape: [[   1    1 4096 4096]]\n",
      "pad: [[0 0 0 0]]\n",
      "stride: [[1 1]]\n",
      "- diff -\n",
      "k diff: 0.0\n",
      "b diff: 0.0\n"
     ]
    }
   ],
   "source": [
    "for i in (0, 4, 8, 10, 12, 15, 17):\n",
    "    conv(i, net_old[i], net_new[i])"
   ]
  },
  {
   "cell_type": "code",
   "execution_count": null,
   "metadata": {},
   "outputs": [],
   "source": []
  }
 ],
 "metadata": {
  "kernelspec": {
   "display_name": "Python 3",
   "language": "python",
   "name": "python3"
  },
  "language_info": {
   "codemirror_mode": {
    "name": "ipython",
    "version": 3
   },
   "file_extension": ".py",
   "mimetype": "text/x-python",
   "name": "python",
   "nbconvert_exporter": "python",
   "pygments_lexer": "ipython3",
   "version": "3.7.4"
  },
  "latex_envs": {
   "LaTeX_envs_menu_present": true,
   "autoclose": false,
   "autocomplete": true,
   "bibliofile": "biblio.bib",
   "cite_by": "apalike",
   "current_citInitial": 1,
   "eqLabelWithNumbers": true,
   "eqNumInitial": 1,
   "hotkeys": {
    "equation": "Ctrl-E",
    "itemize": "Ctrl-I"
   },
   "labels_anchors": false,
   "latex_user_defs": false,
   "report_style_numbering": false,
   "user_envs_cfg": false
  }
 },
 "nbformat": 4,
 "nbformat_minor": 2
}
